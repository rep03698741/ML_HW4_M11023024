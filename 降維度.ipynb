{
 "cells": [
  {
   "cell_type": "markdown",
   "id": "8943700e",
   "metadata": {},
   "source": [
    "# MDS"
   ]
  },
  {
   "cell_type": "code",
   "execution_count": null,
   "id": "a80e5d11",
   "metadata": {},
   "outputs": [],
   "source": [
    "#資料集一：請找出台北高鐵站、新竹高鐵站、台中高鐵站、台南高鐵站、高雄高鐵站、花蓮瑞穗、台東池上彼此之間的距離，\n",
    "#然後用MDS畫在2D平面上。也請使用Google地圖標記其位置。"
   ]
  },
  {
   "cell_type": "code",
   "execution_count": null,
   "id": "1059bd9a",
   "metadata": {},
   "outputs": [],
   "source": [
    "import numpy as np\n",
    "import math\n",
    "from sklearn.manifold import MDS\n",
    "from sklearn.preprocessing import MinMaxScaler\n",
    "import matplotlib.pyplot as plt"
   ]
  },
  {
   "cell_type": "code",
   "execution_count": null,
   "id": "9cae4f44",
   "metadata": {},
   "outputs": [],
   "source": [
    "#載入各地經緯度\n",
    "column, row = 7, 2\n",
    "each_point_position = np.zeros((column, row))\n",
    "#台北高鐵站\n",
    "each_point_position[0][0] = 25.04788\n",
    "each_point_position[0][1] = 121.51629\n",
    "#新竹高鐵站\n",
    "each_point_position[1][0] = 24.80840\n",
    "each_point_position[1][1] = 121.04027\n",
    "#台中高鐵站\n",
    "each_point_position[2][0] = 24.11235\n",
    "each_point_position[2][1] = 120.61613\n",
    "#台南高鐵站\n",
    "each_point_position[3][0] = 22.92482\n",
    "each_point_position[3][1] = 120.28569\n",
    "#高雄高鐵站\n",
    "each_point_position[4][0] = 22.68811\n",
    "each_point_position[4][1] = 120.30909\n",
    "#花蓮瑞穗\n",
    "each_point_position[5][0] = 23.49816\n",
    "each_point_position[5][1] = 121.37869\n",
    "#台東池上\n",
    "each_point_position[6][0] = 23.12291\n",
    "each_point_position[6][1] = 121.21626"
   ]
  },
  {
   "cell_type": "code",
   "execution_count": null,
   "id": "557815e5",
   "metadata": {},
   "outputs": [],
   "source": [
    "#經緯度轉換距離\n",
    "def getDistance(latA, lonA, latB, lonB):\n",
    "    ra = 6378140  # 赤道半徑\n",
    "    rb = 6356755  # 極半徑\n",
    "    flatten = (ra - rb) / ra  # Partial rate of the earth\n",
    "    # change angle to radians\n",
    "    radLatA = math.radians(latA)\n",
    "    radLonA = math.radians(lonA)\n",
    "    radLatB = math.radians(latB)\n",
    "    radLonB = math.radians(lonB)\n",
    "\n",
    "    pA = math.atan(rb / ra * math.tan(radLatA))\n",
    "    pB = math.atan(rb / ra * math.tan(radLatB))\n",
    "    x = math.acos(math.sin(pA) * math.sin(pB) + math.cos(pA) * math.cos(pB) * math.cos(radLonA - radLonB))\n",
    "    c1 = (math.sin(x) - x) * (math.sin(pA) + math.sin(pB)) ** 2 / math.cos(x / 2) ** 2\n",
    "    c2 = (math.sin(x) + x) * (math.sin(pA) - math.sin(pB)) ** 2 / math.sin(x / 2) ** 2\n",
    "    dr = flatten / 8 * (c1 - c2)\n",
    "    distance = ra * (x + dr)\n",
    "    distance = round(distance / 1000, 4)\n",
    "    return distance"
   ]
  },
  {
   "cell_type": "code",
   "execution_count": null,
   "id": "df13b76b",
   "metadata": {},
   "outputs": [],
   "source": [
    "column, row = 7, 7\n",
    "different_distances = np.zeros((column, row))\n",
    "for i in range(0,7):\n",
    "    for j in range(0,7):\n",
    "        if(i==j):\n",
    "            different_distances[i][j] = 0\n",
    "        else:\n",
    "            different_distances[i][j] = getDistance(each_point_position[i][0],each_point_position[i][1],each_point_position[j][0],each_point_position[j][1])\n",
    "different_distances = different_distances.round(3)\n",
    "different_distances"
   ]
  },
  {
   "cell_type": "code",
   "execution_count": null,
   "id": "30934971",
   "metadata": {},
   "outputs": [],
   "source": [
    "scaler = MinMaxScaler()\n",
    "X_scaled = scaler.fit_transform(different_distances)\n",
    "mds = MDS(n_components=2,random_state=0)\n",
    "X_2d = mds.fit_transform(X_scaled)"
   ]
  },
  {
   "cell_type": "code",
   "execution_count": null,
   "id": "36103167",
   "metadata": {},
   "outputs": [],
   "source": [
    "X_2d"
   ]
  },
  {
   "cell_type": "code",
   "execution_count": null,
   "id": "37576614",
   "metadata": {},
   "outputs": [],
   "source": [
    "import plotly.express as px \n",
    "from jupyter_dash import JupyterDash \n",
    "import dash_core_components as dcc \n",
    "import dash_html_components as html \n",
    "from dash.dependencies import Input, Output\n",
    "import pandas as pd\n",
    "df =  pd.DataFrame()\n",
    "# 加載數據\n",
    "df['x']= X_2d[:,0]\n",
    "df['y']=X_2d[:,1]\n",
    "df['Class'] = ['台北高鐵站','新竹高鐵站','台中高鐵站','台南高鐵站','高雄高鐵站','花蓮瑞穗','台東池上']\n",
    "# 構建應用\n",
    "app = JupyterDash(__name__) \n",
    "app.layout = html.Div([ \n",
    "    html.H1(\"JupyterDash Demo\"), \n",
    "    dcc.Graph(id='graph'), \n",
    "    html.Label([ \n",
    "        \"colorscale\", \n",
    "        dcc. Dropdown( \n",
    "            id='colorscale-dropdown', clearable=False, \n",
    "            value='plasma', options=[ \n",
    "                {'label': c, 'value': c} \n",
    "                for c in px.colors.named_colorscales() \n",
    "            ]) \n",
    "    ]) , \n",
    "])\n",
    "# 定義更新圖的回調\n",
    "@app .callback( \n",
    "    Output('graph', 'figure'), \n",
    "    [Input(\"colorscale-dropdown\", \"value\")] \n",
    ") \n",
    "def update_figure(colorscale): \n",
    "    return px.scatter( \n",
    "        df, x=\"x\", y=\"y\", color=\"Class\", \n",
    "        color_continuous_scale=colorscale, \n",
    "        render_mode=\"webgl\", title=\"Tips\" \n",
    "    )\n",
    "# 運行應用程序並在筆記本中內聯顯示結果\n",
    "app.run_server(mode='inline')"
   ]
  },
  {
   "cell_type": "markdown",
   "id": "e18303c9",
   "metadata": {},
   "source": [
    "# T-Sen_資料集一"
   ]
  },
  {
   "cell_type": "code",
   "execution_count": null,
   "id": "438bef91",
   "metadata": {},
   "outputs": [],
   "source": [
    "import numpy as np\n",
    "import pandas as pd\n",
    "from sklearn.preprocessing import LabelEncoder\n",
    "from sklearn.preprocessing import OneHotEncoder\n",
    "from sklearn.compose import ColumnTransformer\n",
    "from sklearn import manifold\n",
    "from sklearn.preprocessing import MinMaxScaler\n",
    "#所需的欄位\n",
    "usecols = ['Class', 'Drink', 'Rank', 'Amount', 'Dissimilarity_value']\n",
    "\n",
    "df = pd.read_csv('ML_Drink_Dataset.csv')\n",
    "df.set_axis(usecols, axis='columns', inplace=True)\n",
    "df"
   ]
  },
  {
   "cell_type": "markdown",
   "id": "1d6bc102",
   "metadata": {},
   "source": [
    "# 1-of-k方法一"
   ]
  },
  {
   "cell_type": "code",
   "execution_count": null,
   "id": "c389aa28",
   "metadata": {},
   "outputs": [],
   "source": [
    "df_1_k = df.drop(['Dissimilarity_value','Class'],axis=1)\n",
    "\n",
    "\n",
    "# scaler = MinMaxScaler()\n",
    "# df_1_k['Amount'] = scaler.fit_transform(df_1_k['Amount'].values.reshape(-1,1))\n",
    "labelencoder = LabelEncoder()\n",
    "df_1_k['Drink'] = labelencoder.fit_transform(df['Drink'])\n",
    "#df['Class'] = labelencoder.fit_transform(df['Class'])"
   ]
  },
  {
   "cell_type": "code",
   "execution_count": null,
   "id": "2c856cf7",
   "metadata": {},
   "outputs": [],
   "source": [
    "df_1_k"
   ]
  },
  {
   "cell_type": "code",
   "execution_count": null,
   "id": "c5a8902a",
   "metadata": {},
   "outputs": [],
   "source": [
    "#onehotencoder = OneHotEncoder(categorical_features=[1])\n",
    "scaler_0 = MinMaxScaler()\n",
    "scaler_1 = MinMaxScaler()\n",
    "scaler_2 = MinMaxScaler()\n",
    "scaler_3 = MinMaxScaler()\n",
    "scaler_4 = MinMaxScaler()\n",
    "scaler_5 = MinMaxScaler()\n",
    "scaler_6 = MinMaxScaler()\n",
    "df_1_k.loc[df_1_k['Drink']==0,'Amount'] = scaler_0.fit_transform(df_1_k.loc[df_1_k['Drink']==0,'Amount'].values.reshape(-1,1))\n",
    "df_1_k.loc[df_1_k['Drink']==1,'Amount'] = scaler_1.fit_transform(df_1_k.loc[df_1_k['Drink']==1,'Amount'].values.reshape(-1,1))\n",
    "df_1_k.loc[df_1_k['Drink']==2,'Amount'] = scaler_2.fit_transform(df_1_k.loc[df_1_k['Drink']==2,'Amount'].values.reshape(-1,1))\n",
    "df_1_k.loc[df_1_k['Drink']==3,'Amount'] = scaler_3.fit_transform(df_1_k.loc[df_1_k['Drink']==3,'Amount'].values.reshape(-1,1))\n",
    "df_1_k.loc[df_1_k['Drink']==4,'Amount'] = scaler_4.fit_transform(df_1_k.loc[df_1_k['Drink']==4,'Amount'].values.reshape(-1,1))\n",
    "df_1_k.loc[df_1_k['Drink']==5,'Amount'] = scaler_5.fit_transform(df_1_k.loc[df_1_k['Drink']==5,'Amount'].values.reshape(-1,1))\n",
    "df_1_k.loc[df_1_k['Drink']==6,'Amount'] = scaler_6.fit_transform(df_1_k.loc[df_1_k['Drink']==6,'Amount'].values.reshape(-1,1))\n",
    "\n",
    "#df_1_k['Amount'] = scaler.fit_transform(df_1_k['Amount'].values.reshape(-1,1))\n",
    "\n",
    "ct = ColumnTransformer([(\"Drink\", OneHotEncoder(), [1])], remainder = 'passthrough')\n",
    "data_str_ohe=ct.fit_transform(df_1_k)\n",
    "pd.DataFrame(data_str_ohe)"
   ]
  },
  {
   "cell_type": "code",
   "execution_count": null,
   "id": "983a04fb",
   "metadata": {},
   "outputs": [],
   "source": [
    "X_tsne = manifold.TSNE(n_components=2, init='random', random_state=5, verbose=1).fit_transform(data_str_ohe)"
   ]
  },
  {
   "cell_type": "code",
   "execution_count": null,
   "id": "032bf340",
   "metadata": {},
   "outputs": [],
   "source": [
    "import plotly.express as px \n",
    "from jupyter_dash import JupyterDash \n",
    "import dash_core_components as dcc \n",
    "import dash_html_components as html \n",
    "from dash.dependencies import Input, Output\n",
    "import pandas as pd\n",
    "df_3 =  pd.DataFrame()\n",
    "# 加載數據\n",
    "df_3['x']= X_tsne[:,0]\n",
    "df_3['y']=X_tsne[:,1]\n",
    "df_3['Class'] = df['Drink']\n",
    "# 構建應用\n",
    "app = JupyterDash(__name__) \n",
    "app.layout = html.Div([ \n",
    "    html.H1(\"JupyterDash Demo\"), \n",
    "    dcc.Graph(id='graph'), \n",
    "    html.Label([ \n",
    "        \"colorscale\", \n",
    "        dcc. Dropdown( \n",
    "            id='colorscale-dropdown', clearable=False, \n",
    "            value='plasma', options=[ \n",
    "                {'label': c, 'value': c} \n",
    "                for c in px.colors.named_colorscales() \n",
    "            ]) \n",
    "    ]) , \n",
    "])\n",
    "# 定義更新圖的回調\n",
    "@app .callback( \n",
    "    Output('graph', 'figure'), \n",
    "    [Input(\"colorscale-dropdown\", \"value\")] \n",
    ") \n",
    "def update_figure(colorscale): \n",
    "    return px.scatter( \n",
    "        df_3, x=\"x\", y=\"y\", color=\"Class\", \n",
    "        color_continuous_scale=colorscale, \n",
    "        render_mode=\"webgl\", title=\"Tips\" \n",
    "    )\n",
    "# 運行應用程序並在筆記本中內聯顯示結果\n",
    "app.run_server(mode='inline')"
   ]
  },
  {
   "cell_type": "code",
   "execution_count": null,
   "id": "57b00b55",
   "metadata": {},
   "outputs": [],
   "source": [
    "df_2 = pd.DataFrame(dict(Feature_1=X_tsne[:,0], Feature_2=X_tsne[:,1],label=df['Rank']))\n",
    "df_2\n",
    "df_2.plot(x=\"Feature_1\", y=\"Feature_2\", kind='scatter', c='label', colormap='viridis')"
   ]
  },
  {
   "cell_type": "markdown",
   "id": "0594e693",
   "metadata": {},
   "source": [
    "# 相似度_方法二"
   ]
  },
  {
   "cell_type": "code",
   "execution_count": null,
   "id": "60f117c9",
   "metadata": {},
   "outputs": [],
   "source": [
    "labelencoder = LabelEncoder()\n",
    "#df['Class'] = labelencoder.fit_transform(df['Class'])\n",
    "df_Dissimilarity = df.drop(['Drink','Class'],axis=1)\n",
    "# ct = ColumnTransformer([(\"Drink\", OneHotEncoder(), [3])], remainder = 'passthrough')\n",
    "# df_Dissimilarity_one=ct.fit_transform(df_Dissimilarity)\n",
    "pd.DataFrame(df_Dissimilarity)\n"
   ]
  },
  {
   "cell_type": "code",
   "execution_count": null,
   "id": "4bf6daa2",
   "metadata": {},
   "outputs": [],
   "source": [
    "X_tsne_one = manifold.TSNE(n_components=2, init='random', random_state=42, verbose=1).fit_transform(df_Dissimilarity)\n",
    "df_1 = pd.DataFrame(dict(Feature_1=X_tsne_one[:,0], Feature_2=X_tsne_one[:,1],label=df['Rank']))\n",
    "df_1.plot(x=\"Feature_1\", y=\"Feature_2\", kind='scatter', c='label', colormap='viridis')"
   ]
  },
  {
   "cell_type": "code",
   "execution_count": null,
   "id": "58077bae",
   "metadata": {},
   "outputs": [],
   "source": [
    "import plotly.express as px \n",
    "from jupyter_dash import JupyterDash \n",
    "import dash_core_components as dcc \n",
    "import dash_html_components as html \n",
    "from dash.dependencies import Input, Output\n",
    "import pandas as pd\n",
    "df_2 =  pd.DataFrame()\n",
    "# 加載數據\n",
    "df_2['x']= X_tsne_one[:,0]\n",
    "df_2['y']=X_tsne_one[:,1]\n",
    "df_2['Class'] = df['Drink']\n",
    "# 構建應用\n",
    "app = JupyterDash(__name__) \n",
    "app.layout = html.Div([ \n",
    "    html.H1(\"JupyterDash Demo\"), \n",
    "    dcc.Graph(id='graph'), \n",
    "    html.Label([ \n",
    "        \"colorscale\", \n",
    "        dcc. Dropdown( \n",
    "            id='colorscale-dropdown', clearable=False, \n",
    "            value='plasma', options=[ \n",
    "                {'label': c, 'value': c} \n",
    "                for c in px.colors.named_colorscales() \n",
    "            ]) \n",
    "    ]) , \n",
    "])\n",
    "# 定義更新圖的回調\n",
    "@app .callback( \n",
    "    Output('graph', 'figure'), \n",
    "    [Input(\"colorscale-dropdown\", \"value\")] \n",
    ") \n",
    "def update_figure(colorscale): \n",
    "    return px.scatter( \n",
    "        df_2, x=\"x\", y=\"y\", color=\"Class\", \n",
    "        color_continuous_scale=colorscale, \n",
    "        render_mode=\"webgl\", title=\"Tips\" \n",
    "    )\n",
    "# 運行應用程序並在筆記本中內聯顯示結果\n",
    "app.run_server(mode='inline')"
   ]
  },
  {
   "cell_type": "markdown",
   "id": "532c2413",
   "metadata": {},
   "source": [
    "# T-Sen_資料集二"
   ]
  },
  {
   "cell_type": "code",
   "execution_count": null,
   "id": "3b3298f6",
   "metadata": {},
   "outputs": [],
   "source": [
    "import numpy as np\n",
    "import pandas as pd\n",
    "from sklearn.preprocessing import LabelEncoder\n",
    "from sklearn.preprocessing import OneHotEncoder\n",
    "from sklearn.compose import ColumnTransformer\n",
    "from sklearn import manifold\n",
    "from sklearn.preprocessing import MinMaxScaler\n",
    "from scipy.cluster.hierarchy import linkage, dendrogram\n",
    "from sklearn.preprocessing import normalize\n",
    "#所需的欄位\n",
    "\n",
    "df_150 = pd.read_csv('ML_Drink_Dataset_150.csv')\n",
    "df_150\n",
    "\n",
    "df_300 = pd.read_csv('ML_Drink_Dataset_300.csv')\n",
    "df_300"
   ]
  },
  {
   "cell_type": "markdown",
   "id": "ce3e94ef",
   "metadata": {},
   "source": [
    "# 1-of-k"
   ]
  },
  {
   "cell_type": "code",
   "execution_count": null,
   "id": "24787b05",
   "metadata": {},
   "outputs": [],
   "source": [
    "df_150_1_k = df_150.drop(['Class'],axis=1)\n",
    "labelencoder = LabelEncoder()\n",
    "df_150_1_k['Drink'] = labelencoder.fit_transform(df_150_1_k['Drink'])\n",
    "ct = ColumnTransformer([(\"Drink\", OneHotEncoder(), [1])], remainder = 'passthrough')\n",
    "df_150_1_k_one=ct.fit_transform(df_150_1_k)\n",
    "pd.DataFrame(df_150_1_k_one)\n"
   ]
  },
  {
   "cell_type": "code",
   "execution_count": null,
   "id": "1744bb36",
   "metadata": {},
   "outputs": [],
   "source": [
    "X_tsne_150 = manifold.TSNE(n_components=2, init='pca', random_state=5, verbose=1).fit_transform(df_150_1_k_one)"
   ]
  },
  {
   "cell_type": "code",
   "execution_count": null,
   "id": "6d4a6fd3",
   "metadata": {},
   "outputs": [],
   "source": [
    "df_300_1_k = df_300.drop(['Class'],axis=1)\n",
    "labelencoder = LabelEncoder()\n",
    "df_300_1_k['Drink'] = labelencoder.fit_transform(df_300_1_k['Drink'])\n",
    "ct = ColumnTransformer([(\"Drink\", OneHotEncoder(), [1])], remainder = 'passthrough')\n",
    "df_300_1_k_one=ct.fit_transform(df_300_1_k)\n",
    "pd.DataFrame(df_300_1_k_one)\n"
   ]
  },
  {
   "cell_type": "code",
   "execution_count": null,
   "id": "8c23feea",
   "metadata": {},
   "outputs": [],
   "source": [
    "X_tsne_300 = manifold.TSNE(n_components=2, init='pca', random_state=5, verbose=1).fit_transform(df_300_1_k_one)"
   ]
  },
  {
   "cell_type": "code",
   "execution_count": null,
   "id": "5105c0da",
   "metadata": {},
   "outputs": [],
   "source": [
    "df_150_2 = pd.DataFrame(dict(Feature_1=X_tsne_150[:,0], Feature_2=X_tsne_150[:,1],label=df_150['Drink']))\n",
    "df_300_2 = pd.DataFrame(dict(Feature_1=X_tsne_300[:,0], Feature_2=X_tsne_300[:,1],label=df_300['Drink']))"
   ]
  },
  {
   "cell_type": "code",
   "execution_count": null,
   "id": "3484c42b",
   "metadata": {},
   "outputs": [],
   "source": [
    "result = pd.concat([df_150_2,df_300_2])"
   ]
  },
  {
   "cell_type": "code",
   "execution_count": null,
   "id": "8b7887a0",
   "metadata": {},
   "outputs": [],
   "source": [
    "result"
   ]
  },
  {
   "cell_type": "code",
   "execution_count": null,
   "id": "bac205ed",
   "metadata": {},
   "outputs": [],
   "source": [
    "import plotly.express as px \n",
    "from jupyter_dash import JupyterDash \n",
    "import dash_core_components as dcc \n",
    "import dash_html_components as html \n",
    "from dash.dependencies import Input, Output\n",
    "import pandas as pd\n",
    "df_4 =  pd.DataFrame()\n",
    "# 加載數據\n",
    "df_4['x']= result['Feature_1']\n",
    "df_4['y']=result['Feature_2']\n",
    "df_4['Class'] = result['label']\n",
    "# 構建應用\n",
    "app = JupyterDash(__name__) \n",
    "app.layout = html.Div([ \n",
    "    html.H1(\"JupyterDash Demo\"), \n",
    "    dcc.Graph(id='graph'), \n",
    "    html.Label([ \n",
    "        \"colorscale\", \n",
    "        dcc. Dropdown( \n",
    "            id='colorscale-dropdown', clearable=False, \n",
    "            value='plasma', options=[ \n",
    "                {'label': c, 'value': c} \n",
    "                for c in px.colors.named_colorscales() \n",
    "            ]) \n",
    "    ]) , \n",
    "])\n",
    "# 定義更新圖的回調\n",
    "@app .callback( \n",
    "    Output('graph', 'figure'), \n",
    "    [Input(\"colorscale-dropdown\", \"value\")] \n",
    ") \n",
    "def update_figure(colorscale): \n",
    "    return px.scatter( \n",
    "        df_4, x=\"x\", y=\"y\", color=\"Class\", \n",
    "        color_continuous_scale=colorscale, \n",
    "        render_mode=\"webgl\", title=\"Tips\" \n",
    "    )\n",
    "# 運行應用程序並在筆記本中內聯顯示結果\n",
    "app.run_server(mode='inline')"
   ]
  },
  {
   "cell_type": "markdown",
   "id": "298c5dcf",
   "metadata": {},
   "source": [
    "# 相似值-------以下是有點亂的"
   ]
  },
  {
   "cell_type": "code",
   "execution_count": null,
   "id": "df245a7e",
   "metadata": {},
   "outputs": [],
   "source": [
    "df_150_1_S = df_150.drop(['Class','Drink'],axis=1)\n",
    "#df_150_1_S['similarity'] = [1,1,2,2]\n",
    "df_300_1_S = df_300.drop(['Class','Drink'],axis=1)\n",
    "#df_300_1_S['similarity'] = [1,1,2]\n",
    "pd.DataFrame(df_150_1_S)"
   ]
  },
  {
   "cell_type": "code",
   "execution_count": null,
   "id": "faeb3c5a",
   "metadata": {},
   "outputs": [],
   "source": [
    "from numpy import dot\n",
    "from numpy.linalg import norm\n",
    "\n",
    "column, row = 4, 4\n",
    "different_distances = np.zeros((column, row))\n",
    "for i in range(0,4):\n",
    "    for k in range(0,4):\n",
    "        a = df_150_1_S.values[i] # 7UP\n",
    "        b = df_150_1_S.values[k] # Coke\n",
    "        cos_sim = dot(a, b)/(norm(a)*norm(b))\n",
    "        different_distances[i][k] = cos_sim\n",
    "different_distances\n",
    "\n",
    "column, row = 3, 3\n",
    "different_distances_2 = np.zeros((column, row))\n",
    "for i in range(0,3):\n",
    "    for k in range(0,3):\n",
    "        a = df_150_1_S.values[i] # 7UP\n",
    "        b = df_150_1_S.values[k] # Coke\n",
    "        cos_sim = dot(a, b)/(norm(a)*norm(b))\n",
    "        different_distances_2[i][k] = cos_sim\n",
    "different_distances_2\n",
    "different_distances = pd.DataFrame(different_distances)\n",
    "different_distances_2 = pd.DataFrame(different_distances_2)\n",
    "\n",
    "result_3 = pd.concat([df_150_1_S,different_distances],axis=1)\n",
    "result_3\n",
    "\n",
    "result_4 = pd.concat([df_300_1_S,different_distances_2],axis=1)\n",
    "result_4"
   ]
  },
  {
   "cell_type": "code",
   "execution_count": null,
   "id": "199042f9",
   "metadata": {},
   "outputs": [],
   "source": [
    "different_distances"
   ]
  },
  {
   "cell_type": "code",
   "execution_count": null,
   "id": "c811740e",
   "metadata": {},
   "outputs": [],
   "source": [
    "X_tsne_150_2 = manifold.TSNE(n_components=2, init='random', random_state=5, verbose=1).fit_transform(result_3)\n",
    "X_tsne_300_2 = manifold.TSNE(n_components=2, init='random', random_state=5, verbose=1).fit_transform(result_4)"
   ]
  },
  {
   "cell_type": "code",
   "execution_count": null,
   "id": "5e1b5efa",
   "metadata": {},
   "outputs": [],
   "source": [
    "df_150_3 = pd.DataFrame(dict(Feature_1=X_tsne_150_2[:,0], Feature_2=X_tsne_150_2[:,1],label=df_150['Drink']))\n",
    "df_300_3 = pd.DataFrame(dict(Feature_1=X_tsne_300_2[:,0], Feature_2=X_tsne_300_2[:,1],label=df_300['Drink']))"
   ]
  },
  {
   "cell_type": "code",
   "execution_count": null,
   "id": "6e2768a9",
   "metadata": {},
   "outputs": [],
   "source": [
    "result_2 = pd.concat([df_150_3,df_300_3])"
   ]
  },
  {
   "cell_type": "code",
   "execution_count": null,
   "id": "0ec80baf",
   "metadata": {},
   "outputs": [],
   "source": [
    "result_2"
   ]
  },
  {
   "cell_type": "code",
   "execution_count": null,
   "id": "e6211f79",
   "metadata": {},
   "outputs": [],
   "source": [
    "import plotly.express as px \n",
    "from jupyter_dash import JupyterDash \n",
    "import dash_core_components as dcc \n",
    "import dash_html_components as html \n",
    "from dash.dependencies import Input, Output\n",
    "import pandas as pd\n",
    "df_5 =  pd.DataFrame()\n",
    "# 加載數據\n",
    "df_5['x']= result_2['Feature_1']\n",
    "df_5['y']=result_2['Feature_2']\n",
    "df_5['Class'] = result_2['label']\n",
    "# 構建應用\n",
    "app = JupyterDash(__name__) \n",
    "app.layout = html.Div([ \n",
    "    html.H1(\"JupyterDash Demo\"), \n",
    "    dcc.Graph(id='graph'), \n",
    "    html.Label([ \n",
    "        \"colorscale\", \n",
    "        dcc. Dropdown( \n",
    "            id='colorscale-dropdown', clearable=False, \n",
    "            value='plasma', options=[ \n",
    "                {'label': c, 'value': c} \n",
    "                for c in px.colors.named_colorscales() \n",
    "            ]) \n",
    "    ]) , \n",
    "])\n",
    "# 定義更新圖的回調\n",
    "@app .callback( \n",
    "    Output('graph', 'figure'), \n",
    "    [Input(\"colorscale-dropdown\", \"value\")] \n",
    ") \n",
    "def update_figure(colorscale): \n",
    "    return px.scatter( \n",
    "        df_5, x=\"x\", y=\"y\", color=\"Class\", \n",
    "        color_continuous_scale=colorscale, \n",
    "        render_mode=\"webgl\", title=\"Tips\" \n",
    "    )\n",
    "# 運行應用程序並在筆記本中內聯顯示結果\n",
    "app.run_server(mode='inline')"
   ]
  },
  {
   "cell_type": "code",
   "execution_count": null,
   "id": "1f105d3b",
   "metadata": {},
   "outputs": [],
   "source": []
  }
 ],
 "metadata": {
  "kernelspec": {
   "display_name": "Python 3 (ipykernel)",
   "language": "python",
   "name": "python3"
  },
  "language_info": {
   "codemirror_mode": {
    "name": "ipython",
    "version": 3
   },
   "file_extension": ".py",
   "mimetype": "text/x-python",
   "name": "python",
   "nbconvert_exporter": "python",
   "pygments_lexer": "ipython3",
   "version": "3.7.13"
  }
 },
 "nbformat": 4,
 "nbformat_minor": 5
}
